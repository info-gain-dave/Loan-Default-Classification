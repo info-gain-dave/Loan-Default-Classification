{
 "cells": [
  {
   "cell_type": "markdown",
   "metadata": {},
   "source": [
    "## CREDIT DEFAULT PREDICTION WITH THE PROSPER LOAN DATASET. "
   ]
  },
  {
   "cell_type": "markdown",
   "metadata": {},
   "source": [
    "#### 1. IMPORT ALL PACKAGES"
   ]
  },
  {
   "cell_type": "code",
   "execution_count": 34,
   "metadata": {},
   "outputs": [],
   "source": [
    "# Import necessary packages\n",
    "import pandas as pd\n",
    "import numpy as np\n",
    "\n",
    "# Import data cleaning and model accuracy tools\n",
    "#from sklearn.model_selection import train_test_split # Splits data\n",
    "from sklearn.preprocessing import LabelEncoder # Convert categor. to numeric\n",
    "from sklearn.metrics import confusion_matrix # Confusion matrix\n",
    "from sklearn.metrics import accuracy_score # Test accuracy of model predoctions\n",
    "from sklearn.preprocessing import StandardScaler\n",
    "from sklearn.metrics import confusion_matrix\n",
    "from sklearn.metrics import roc_auc_score\n",
    "from sklearn import metrics\n",
    "import random\n",
    "\n",
    "# Import models\n",
    "from sklearn.ensemble import GradientBoostingClassifier\n",
    "from sklearn.linear_model import LogisticRegression\n",
    "from sklearn.neighbors import KNeighborsClassifier\n",
    "from sklearn.ensemble import RandomForestClassifier\n",
    "from sklearn import svm\n",
    "from sklearn.model_selection import StratifiedKFold\n",
    "from sklearn.feature_selection import RFECV\n",
    "import statsmodels.api as sm\n",
    "# To suppress ugly warnings\n",
    "import warnings\n",
    "\n",
    "# Data Viz\n",
    "import matplotlib.pyplot as plt\n",
    "import seaborn as sns  "
   ]
  },
  {
   "cell_type": "markdown",
   "metadata": {},
   "source": [
    "#### 1.1 LOAD DATA"
   ]
  },
  {
   "cell_type": "code",
   "execution_count": 35,
   "metadata": {},
   "outputs": [],
   "source": [
    "# Import data\n",
    "df = pd.read_csv(\"C:/Users/david/Desktop/FINISHED/ProsperLoanData.csv\", encoding = \"ISO-8859-1\") "
   ]
  },
  {
   "cell_type": "markdown",
   "metadata": {},
   "source": [
    "#### 2. EXPLORE DATA"
   ]
  },
  {
   "cell_type": "markdown",
   "metadata": {},
   "source": [
    "#### 2.1 DROP USELESS COLUMNS\n",
    "Some features are not appropriate predictors such as 'LoanKey' or 'LoanListing' others were dropped for simplicity."
   ]
  },
  {
   "cell_type": "code",
   "execution_count": 36,
   "metadata": {},
   "outputs": [],
   "source": [
    "df = df.drop(columns=['LoanKey','BorrowerState','Occupation','Investors','ScorexChangeAtTimeOfListing','Recommendations','InvestmentFromFriendsCount','TotalInquiries','InvestmentFromFriendsAmount','InvestmentFromFriendsCount','LoanOriginationQuarter','GroupKey','LoanOriginationDate', 'LP_GrossPrincipalLoss', 'LP_NetPrincipalLoss', 'ListingKey', 'ListingNumber', 'ListingCreationDate', 'ClosedDate', 'ListingCategory (numeric)', 'CurrentlyInGroup', 'GroupKey', 'DateCreditPulled', 'OpenCreditLines', 'CurrentCreditLines', 'OpenRevolvingAccounts', 'OpenRevolvingMonthlyPayment', 'InquiriesLast6Months',  'RevolvingCreditBalance', 'TotalProsperLoans', 'TotalProsperPaymentsBilled', 'OnTimeProsperPayments', 'ProsperPaymentsLessThanOneMonthLate', 'ProsperPaymentsOneMonthPlusLate', 'ProsperPrincipalBorrowed', 'ProsperPrincipalOutstanding', 'LoanFirstDefaultedCycleNumber', 'LoanMonthsSinceOrigination', 'LoanNumber', 'MemberKey', 'LP_CustomerPayments', 'LP_CustomerPrincipalPayments', 'LP_InterestandFees', 'LP_ServiceFees', 'PercentFunded', 'LP_NonPrincipalRecoverypayments', 'LP_CollectionFees', 'LoanCurrentDaysDelinquent', 'BorrowerRate', 'LenderYield', 'EstimatedEffectiveYield', 'EstimatedLoss', 'EstimatedReturn','FirstRecordedCreditLine'])"
   ]
  },
  {
   "cell_type": "code",
   "execution_count": 37,
   "metadata": {
    "scrolled": true
   },
   "outputs": [
    {
     "name": "stdout",
     "output_type": "stream",
     "text": [
      "PROSPER LOAN DATASET OVERVIEW:\n",
      " \n",
      "29  Columns\n",
      "113937  Instances\n",
      "\n",
      "NUMERIC VARIABLES:\n",
      "\n",
      "A       AmountDelinquent\n",
      "A       AvailableBankcardCredit\n",
      "B       BankcardUtilization\n",
      "B       BorrowerAPR\n",
      "C       CreditScoreRangeLower\n",
      "C       CreditScoreRangeUpper\n",
      "C       CurrentDelinquencies\n",
      "D       DebtToIncomeRatio\n",
      "D       DelinquenciesLast7Years\n",
      "E       EmploymentStatusDuration\n",
      "I       IncomeVerifiable\n",
      "I       IsBorrowerHomeowner\n",
      "L       LoanOriginalAmount\n",
      "M       MonthlyLoanPayment\n",
      "P       ProsperRating (numeric)\n",
      "P       ProsperScore\n",
      "P       PublicRecordsLast10Years\n",
      "P       PublicRecordsLast12Months\n",
      "S       StatedMonthlyIncome\n",
      "T       Term\n",
      "T       TotalCreditLinespast7years\n",
      "T       TotalTrades\n",
      "T       TradesNeverDelinquent (percentage)\n",
      "T       TradesOpenedLast6Months\n",
      "\n",
      "CATEGORICAL VARIABLES:\n",
      "\n",
      "C       CreditGrade\n",
      "E       EmploymentStatus\n",
      "I       IncomeRange\n",
      "L       LoanStatus\n",
      "P       ProsperRating (Alpha)\n"
     ]
    }
   ],
   "source": [
    "print(\"PROSPER LOAN DATASET OVERVIEW:\\n \")\n",
    "print(len(df.columns), \" Columns\")\n",
    "print(len(df), \" Instances\\n\")\n",
    "categorical_variables, numeric_variables = [],[]\n",
    "for col in list(df.columns):\n",
    "    if df[col].dtype.kind == \"O\":\n",
    "        categorical_variables.append(col)\n",
    "    else:\n",
    "        numeric_variables.append(col)\n",
    "\n",
    "print(\"NUMERIC VARIABLES:\\n\")\n",
    "for var in sorted(numeric_variables):\n",
    "    print(var[0],\"     \",var)\n",
    "print(\"\\nCATEGORICAL VARIABLES:\\n\")\n",
    "for var in sorted(categorical_variables):\n",
    "        print(var[0],\"     \",var)"
   ]
  },
  {
   "cell_type": "markdown",
   "metadata": {},
   "source": [
    "#### 2.2 DEFINE TARGET VARIABLE\n",
    "A new target variable must be created, 'Defaulted'.....\n",
    "'Defaulted' replaces 'LoanStatus'.....\n",
    "Defaulted = 1, Completed = 0....."
   ]
  },
  {
   "cell_type": "code",
   "execution_count": 38,
   "metadata": {},
   "outputs": [],
   "source": [
    "def completed_or_defaulted_chargedoff(x):# creates a new target column\n",
    "    if x == \"Completed\":\n",
    "        return 0\n",
    "    elif x == \"Defaulted\" or x == \"Chargedoff\":\n",
    "        return 1"
   ]
  },
  {
   "cell_type": "markdown",
   "metadata": {},
   "source": [
    "###### Overview LoanStatus"
   ]
  },
  {
   "cell_type": "code",
   "execution_count": 39,
   "metadata": {},
   "outputs": [
    {
     "name": "stdout",
     "output_type": "stream",
     "text": [
      "VARIABLE STATES LoanStatus\n",
      "\n",
      "Completed\n",
      "Current\n",
      "Past Due (16-30 days)\n",
      "Past Due (31-60 days)\n",
      "Past Due (1-15 days)\n",
      "Past Due (61-90 days)\n",
      "FinalPaymentInProgress\n",
      "Past Due (91-120 days)\n",
      "Past Due (>120 days)\n",
      "Cancelled\n",
      "Chargedoff\n",
      "Defaulted\n"
     ]
    }
   ],
   "source": [
    "print(\"VARIABLE STATES LoanStatus\\n\")\n",
    "for state in set(df['LoanStatus']):\n",
    "    print(state)"
   ]
  },
  {
   "cell_type": "markdown",
   "metadata": {},
   "source": [
    "##### Create Defaulted Variable"
   ]
  },
  {
   "cell_type": "code",
   "execution_count": 40,
   "metadata": {},
   "outputs": [],
   "source": [
    "df['Defaulted'] = df['LoanStatus'].map(lambda x: completed_or_defaulted_chargedoff(x))"
   ]
  },
  {
   "cell_type": "code",
   "execution_count": 41,
   "metadata": {},
   "outputs": [],
   "source": [
    "df = df[df['Defaulted'].notnull()]# delete useless rows"
   ]
  },
  {
   "cell_type": "code",
   "execution_count": 42,
   "metadata": {},
   "outputs": [
    {
     "name": "stdout",
     "output_type": "stream",
     "text": [
      "VARIABLE STATES Completed-Defaulted-Chargedoff\n",
      "\n",
      "0.0\n",
      "1.0\n"
     ]
    }
   ],
   "source": [
    "print(\"VARIABLE STATES Completed-Defaulted-Chargedoff\\n\")\n",
    "for state in set(df['Defaulted']):\n",
    "    print(state)"
   ]
  },
  {
   "cell_type": "markdown",
   "metadata": {},
   "source": [
    "#####  Delete redundant column 'LoanStatus'"
   ]
  },
  {
   "cell_type": "code",
   "execution_count": 43,
   "metadata": {},
   "outputs": [],
   "source": [
    "df = df.drop(columns=['LoanStatus'])# drop column LoanStatus"
   ]
  },
  {
   "cell_type": "markdown",
   "metadata": {},
   "source": [
    "### 3. DEFINE PREDICTOR VARIABLES"
   ]
  },
  {
   "cell_type": "markdown",
   "metadata": {},
   "source": [
    "#### 3.1 NUMERIC VARIABLES:"
   ]
  },
  {
   "cell_type": "code",
   "execution_count": 44,
   "metadata": {},
   "outputs": [
    {
     "name": "stdout",
     "output_type": "stream",
     "text": [
      "NUMERIC VARIABLES:                                Contains Nulls\n",
      "\n",
      "A       AmountDelinquent                          True\n",
      "A       AvailableBankcardCredit                   True\n",
      "B       BankcardUtilization                       True\n",
      "B       BorrowerAPR                               True\n",
      "C       CreditScoreRangeLower                     True\n",
      "C       CreditScoreRangeUpper                     True\n",
      "C       CurrentDelinquencies                      True\n",
      "D       DebtToIncomeRatio                         True\n",
      "D       DelinquenciesLast7Years                   True\n",
      "E       EmploymentStatusDuration                  True\n",
      "I       IncomeVerifiable                          False\n",
      "I       IsBorrowerHomeowner                       False\n",
      "L       LoanOriginalAmount                        False\n",
      "M       MonthlyLoanPayment                        False\n",
      "P       ProsperRating (numeric)                   True\n",
      "P       ProsperScore                              True\n",
      "P       PublicRecordsLast10Years                  True\n",
      "P       PublicRecordsLast12Months                 True\n",
      "S       StatedMonthlyIncome                       False\n",
      "T       Term                                      False\n",
      "T       TotalCreditLinespast7years                True\n",
      "T       TotalTrades                               True\n",
      "T       TradesNeverDelinquent (percentage)        True\n",
      "T       TradesOpenedLast6Months                   True\n"
     ]
    }
   ],
   "source": [
    "print(\"NUMERIC VARIABLES:                                Contains Nulls\\n\")\n",
    "for var in sorted(numeric_variables):\n",
    "    print(var[0],\"     \",var,\" \"*(40-len(var)),df[var].isnull().values.any())"
   ]
  },
  {
   "cell_type": "markdown",
   "metadata": {},
   "source": [
    "##### Replace Nulls with the variable average"
   ]
  },
  {
   "cell_type": "code",
   "execution_count": 45,
   "metadata": {},
   "outputs": [
    {
     "name": "stdout",
     "output_type": "stream",
     "text": [
      "NUMERIC VARIABLES:                                Contains Nulls\n",
      "\n",
      "A       AmountDelinquent                          False\n",
      "A       AvailableBankcardCredit                   False\n",
      "B       BankcardUtilization                       False\n",
      "B       BorrowerAPR                               False\n",
      "C       CreditScoreRangeLower                     False\n",
      "C       CreditScoreRangeUpper                     False\n",
      "C       CurrentDelinquencies                      False\n",
      "D       DebtToIncomeRatio                         False\n",
      "D       DelinquenciesLast7Years                   False\n",
      "E       EmploymentStatusDuration                  False\n",
      "I       IncomeVerifiable                          False\n",
      "I       IsBorrowerHomeowner                       False\n",
      "L       LoanOriginalAmount                        False\n",
      "M       MonthlyLoanPayment                        False\n",
      "P       ProsperRating (numeric)                   False\n",
      "P       ProsperScore                              False\n",
      "P       PublicRecordsLast10Years                  False\n",
      "P       PublicRecordsLast12Months                 False\n",
      "S       StatedMonthlyIncome                       False\n",
      "T       Term                                      False\n",
      "T       TotalCreditLinespast7years                False\n",
      "T       TotalTrades                               False\n",
      "T       TradesNeverDelinquent (percentage)        False\n",
      "T       TradesOpenedLast6Months                   False\n"
     ]
    }
   ],
   "source": [
    "print(\"NUMERIC VARIABLES:                                Contains Nulls\\n\")\n",
    "for var in sorted(numeric_variables):\n",
    "    df[var].fillna(df[var].mean(), inplace=True)\n",
    "    print(var[0],\"     \",var,\" \"*(40-len(var)),df[var].isnull().values.any())"
   ]
  },
  {
   "cell_type": "markdown",
   "metadata": {},
   "source": [
    "#### 3.2 CATEGORICAL VARIABLES"
   ]
  },
  {
   "cell_type": "code",
   "execution_count": 46,
   "metadata": {},
   "outputs": [],
   "source": [
    "def get_unique(col):\n",
    "    print(\"\\nCOLUMN:\",col)\n",
    "    print(\"COUNT UNIQUE VALUES:\",len(df[col].unique()))\n",
    "    print(\"UNIQUE VALUES:\",df[col].unique())"
   ]
  },
  {
   "cell_type": "code",
   "execution_count": 47,
   "metadata": {},
   "outputs": [
    {
     "name": "stdout",
     "output_type": "stream",
     "text": [
      "\n",
      "COLUMN: CreditGrade\n",
      "COUNT UNIQUE VALUES: 9\n",
      "UNIQUE VALUES: ['C' 'HR' nan 'AA' 'D' 'B' 'E' 'A' 'NC']\n",
      "\n",
      "COLUMN: ProsperRating (Alpha)\n",
      "COUNT UNIQUE VALUES: 8\n",
      "UNIQUE VALUES: [nan 'HR' 'D' 'E' 'A' 'AA' 'B' 'C']\n",
      "\n",
      "COLUMN: EmploymentStatus\n",
      "COUNT UNIQUE VALUES: 9\n",
      "UNIQUE VALUES: ['Self-employed' 'Not available' 'Full-time' 'Other' 'Employed' nan\n",
      " 'Not employed' 'Part-time' 'Retired']\n",
      "\n",
      "COLUMN: IncomeRange\n",
      "COUNT UNIQUE VALUES: 8\n",
      "UNIQUE VALUES: ['$25,000-49,999' 'Not displayed' '$1-24,999' '$50,000-74,999'\n",
      " '$75,000-99,999' '$100,000+' 'Not employed' '$0']\n"
     ]
    }
   ],
   "source": [
    "for col in df.columns:\n",
    "    if df[col].dtype == object:\n",
    "        get_unique(col)"
   ]
  },
  {
   "cell_type": "markdown",
   "metadata": {},
   "source": [
    "#### Transform Ordinal Categories suchs as CreditGrades to Numeric"
   ]
  },
  {
   "cell_type": "code",
   "execution_count": 48,
   "metadata": {},
   "outputs": [],
   "source": [
    "the_grades = {'C': 4, 'HR': 8, 'AA': 1, 'D': 6,\\\n",
    "              'B':3, 'E':7, 'A': 2, 'NC': 5}\n",
    "                # Dictionary for mapping values\n",
    "\n",
    "def numeric_grades(value): # function maps the dictionary the_months\n",
    "    if value not in the_grades:\n",
    "        return None\n",
    "    else:\n",
    "        return the_grades[value] \n",
    "\n",
    "df[\"CreditGrade\"] = df[\"CreditGrade\"].apply(numeric_grades) # convert column"
   ]
  },
  {
   "cell_type": "code",
   "execution_count": 49,
   "metadata": {},
   "outputs": [],
   "source": [
    "the_grades = {'C': 4, 'HR': 7, 'AA': 1, 'D': 5,\\\n",
    "              'B':3, 'E':6, 'A': 2}\n",
    "                # Dictionary for mapping values\n",
    "\n",
    "def numeric_grades(value): # function maps the dictionary the_months\n",
    "    if value not in the_grades:\n",
    "        return None\n",
    "    else:\n",
    "        return the_grades[value] \n",
    "\n",
    "df[\"ProsperRating (Alpha)\"] = df[\"ProsperRating (Alpha)\"].apply(numeric_grades) # convert column"
   ]
  },
  {
   "cell_type": "code",
   "execution_count": 50,
   "metadata": {},
   "outputs": [
    {
     "name": "stdout",
     "output_type": "stream",
     "text": [
      "NEW NUMERIC VARIABLES:                                Contains Nulls\n",
      "\n",
      "CreditGrade                                              False\n",
      "ProsperRating (Alpha)                                    False\n"
     ]
    }
   ],
   "source": [
    "print(\"NEW NUMERIC VARIABLES:                                Contains Nulls\\n\")\n",
    "df[\"CreditGrade\"].fillna(df[var].mean(), inplace=True)\n",
    "print(\"CreditGrade\",\" \"*(55-len(\"CreditGrade\")),df[var].isnull().values.any())\n",
    "df[\"ProsperRating (Alpha)\"].fillna(df[var].mean(), inplace=True)\n",
    "print(\"ProsperRating (Alpha)\",\" \"*(55-len(\"ProsperRating (Alpha)\")),df[var].isnull().values.any())"
   ]
  },
  {
   "cell_type": "markdown",
   "metadata": {},
   "source": [
    "#### ONE-HOT ENCODING Remaining Categoricals"
   ]
  },
  {
   "cell_type": "markdown",
   "metadata": {},
   "source": [
    "#### There are 2 remaining Categoricals"
   ]
  },
  {
   "cell_type": "code",
   "execution_count": 51,
   "metadata": {},
   "outputs": [
    {
     "name": "stdout",
     "output_type": "stream",
     "text": [
      "\n",
      "COLUMN: EmploymentStatus\n",
      "COUNT UNIQUE VALUES: 9\n",
      "UNIQUE VALUES: ['Self-employed' 'Not available' 'Full-time' 'Other' 'Employed' nan\n",
      " 'Not employed' 'Part-time' 'Retired']\n",
      "\n",
      "COLUMN: IncomeRange\n",
      "COUNT UNIQUE VALUES: 8\n",
      "UNIQUE VALUES: ['$25,000-49,999' 'Not displayed' '$1-24,999' '$50,000-74,999'\n",
      " '$75,000-99,999' '$100,000+' 'Not employed' '$0']\n"
     ]
    }
   ],
   "source": [
    "for col in df.columns:\n",
    "    if df[col].dtype == object:\n",
    "        get_unique(col)"
   ]
  },
  {
   "cell_type": "code",
   "execution_count": 52,
   "metadata": {},
   "outputs": [],
   "source": [
    "df = pd.get_dummies(df) # One hot encoding remaining variables"
   ]
  },
  {
   "cell_type": "markdown",
   "metadata": {},
   "source": [
    "#### 3.3 EXPLORE FINAL MODEL FEATURES"
   ]
  },
  {
   "cell_type": "code",
   "execution_count": 53,
   "metadata": {},
   "outputs": [
    {
     "name": "stdout",
     "output_type": "stream",
     "text": [
      "Total number of features = 43\n",
      "Features:\n",
      "\n",
      "A       AmountDelinquent\n",
      "A       AvailableBankcardCredit\n",
      "B       BankcardUtilization\n",
      "B       BorrowerAPR\n",
      "C       CreditGrade\n",
      "C       CreditScoreRangeLower\n",
      "C       CreditScoreRangeUpper\n",
      "C       CurrentDelinquencies\n",
      "D       DebtToIncomeRatio\n",
      "D       Defaulted\n",
      "D       DelinquenciesLast7Years\n",
      "E       EmploymentStatusDuration\n",
      "E       EmploymentStatus_Employed\n",
      "E       EmploymentStatus_Full-time\n",
      "E       EmploymentStatus_Not available\n",
      "E       EmploymentStatus_Not employed\n",
      "E       EmploymentStatus_Other\n",
      "E       EmploymentStatus_Part-time\n",
      "E       EmploymentStatus_Retired\n",
      "E       EmploymentStatus_Self-employed\n",
      "I       IncomeRange_$0\n",
      "I       IncomeRange_$1-24,999\n",
      "I       IncomeRange_$100,000+\n",
      "I       IncomeRange_$25,000-49,999\n",
      "I       IncomeRange_$50,000-74,999\n",
      "I       IncomeRange_$75,000-99,999\n",
      "I       IncomeRange_Not displayed\n",
      "I       IncomeRange_Not employed\n",
      "I       IncomeVerifiable\n",
      "I       IsBorrowerHomeowner\n",
      "L       LoanOriginalAmount\n",
      "M       MonthlyLoanPayment\n",
      "P       ProsperRating (Alpha)\n",
      "P       ProsperRating (numeric)\n",
      "P       ProsperScore\n",
      "P       PublicRecordsLast10Years\n",
      "P       PublicRecordsLast12Months\n",
      "S       StatedMonthlyIncome\n",
      "T       Term\n",
      "T       TotalCreditLinespast7years\n",
      "T       TotalTrades\n",
      "T       TradesNeverDelinquent (percentage)\n",
      "T       TradesOpenedLast6Months\n"
     ]
    }
   ],
   "source": [
    "print(\"Total number of features =\",len(df.columns))\n",
    "print(\"Features:\\n\")\n",
    "for var in sorted(df.columns):\n",
    "    print(var[0],\"     \",var)"
   ]
  },
  {
   "cell_type": "markdown",
   "metadata": {},
   "source": [
    "### 4. MACHINE LEARNING"
   ]
  },
  {
   "cell_type": "markdown",
   "metadata": {},
   "source": [
    "#### 4.1 TRAIN-TEST SPLIT"
   ]
  },
  {
   "cell_type": "code",
   "execution_count": 54,
   "metadata": {},
   "outputs": [],
   "source": [
    "# Split into train/test set\n",
    "test = df.sample(frac=0.2, replace=False, random_state=1)# 20% of data, without replacement, random seed\n",
    "train = df.drop(test.index)\n",
    "\n",
    "train_X = train.drop(columns=['Defaulted'])\n",
    "train_y = train['Defaulted']\n",
    "test_X = test.drop(columns=['Defaulted'])\n",
    "test_y = test['Defaulted']"
   ]
  },
  {
   "cell_type": "code",
   "execution_count": 55,
   "metadata": {},
   "outputs": [],
   "source": [
    "import warnings# Note i need to convert columns to get rid of these warnings \n",
    "warnings.filterwarnings('ignore')\n",
    "scaler = StandardScaler()\n",
    "scaler.fit(train_X) # fit scaler with training\n",
    "train_X[train_X.columns] = scaler.transform(train_X[train_X.columns]) # transform training\n",
    "test_X[test_X.columns] = scaler.transform(test_X[test_X.columns])# transform test\n",
    "# Note i need to convert columns to get rid of these warnings "
   ]
  },
  {
   "cell_type": "markdown",
   "metadata": {},
   "source": [
    "#### 4.2 LOGISTIC REGRESSION"
   ]
  },
  {
   "cell_type": "markdown",
   "metadata": {},
   "source": [
    "#### Stats Model Analysis of Logistic Regression"
   ]
  },
  {
   "cell_type": "code",
   "execution_count": 60,
   "metadata": {},
   "outputs": [
    {
     "name": "stdout",
     "output_type": "stream",
     "text": [
      "Warning: Maximum number of iterations has been exceeded.\n",
      "         Current function value: 0.625789\n",
      "         Iterations: 35\n",
      "                                           Results: Logit\n",
      "=====================================================================================================\n",
      "Model:                          Logit                        Pseudo R-squared:             -0.013    \n",
      "Dependent Variable:             Defaulted                    AIC:                          55233.2689\n",
      "Date:                           2019-04-15 16:16             BIC:                          55581.0075\n",
      "No. Observations:               44067                        Log-Likelihood:               -27577.   \n",
      "Df Model:                       39                           LL-Null:                      -27230.   \n",
      "Df Residuals:                   44027                        LLR p-value:                  1.0000    \n",
      "Converged:                      0.0000                       Scale:                        1.0000    \n",
      "No. Iterations:                 35.0000                                                              \n",
      "-----------------------------------------------------------------------------------------------------\n",
      "                                    Coef.     Std.Err.      z     P>|z|      [0.025         0.975]   \n",
      "-----------------------------------------------------------------------------------------------------\n",
      "CreditGrade                         0.0232        0.0303   0.7647 0.4445        -0.0362        0.0825\n",
      "Term                                0.1745        0.0139  12.5188 0.0000         0.1472        0.2019\n",
      "BorrowerAPR                         0.5107        0.0226  22.5657 0.0000         0.4663        0.5550\n",
      "ProsperRating (numeric)            -0.1804        0.0227  -7.9603 0.0000        -0.2248       -0.1360\n",
      "ProsperRating (Alpha)              -0.4015        0.0337 -11.9170 0.0000        -0.4675       -0.3354\n",
      "ProsperScore                        0.0625        0.0165   3.7871 0.0002         0.0302        0.0949\n",
      "EmploymentStatusDuration            0.0314        0.0108   2.9159 0.0035         0.0103        0.0525\n",
      "IsBorrowerHomeowner                 0.1331        0.0120  11.1114 0.0000         0.1097        0.1566\n",
      "CreditScoreRangeLower              -0.1270 38178743.8892  -0.0000 1.0000 -74828963.1248 74828962.8708\n",
      "CreditScoreRangeUpper              -0.1270 38499198.9940  -0.0000 1.0000 -75457043.5889 75457043.3348\n",
      "TotalCreditLinespast7years         -0.0117        0.0235  -0.4974 0.6189        -0.0578        0.0344\n",
      "CurrentDelinquencies                0.2908        0.0180  16.1663 0.0000         0.2555        0.3260\n",
      "AmountDelinquent                   -0.0309        0.0113  -2.7208 0.0065        -0.0531       -0.0086\n",
      "DelinquenciesLast7Years            -0.0595        0.0131  -4.5452 0.0000        -0.0852       -0.0339\n",
      "PublicRecordsLast10Years            0.0522        0.0120   4.3375 0.0000         0.0286        0.0758\n",
      "PublicRecordsLast12Months          -0.0053        0.0113  -0.4695 0.6387        -0.0274        0.0168\n",
      "BankcardUtilization                -0.0701        0.0124  -5.6625 0.0000        -0.0944       -0.0459\n",
      "AvailableBankcardCredit            -0.0082        0.0129  -0.6344 0.5258        -0.0335        0.0171\n",
      "TotalTrades                        -0.0261        0.0240  -1.0848 0.2780        -0.0732        0.0210\n",
      "TradesNeverDelinquent (percentage)  0.0142        0.0136   1.0480 0.2946        -0.0124        0.0408\n",
      "TradesOpenedLast6Months             0.1276        0.0112  11.3773 0.0000         0.1056        0.1496\n",
      "DebtToIncomeRatio                   0.0239        0.0116   2.0501 0.0404         0.0011        0.0467\n",
      "IncomeVerifiable                   -0.0218        0.0141  -1.5483 0.1216        -0.0493        0.0058\n",
      "StatedMonthlyIncome                -0.0620        0.0212  -2.9284 0.0034        -0.1035       -0.0205\n",
      "LoanOriginalAmount                 -0.0756        0.0401  -1.8831 0.0597        -0.1542        0.0031\n",
      "MonthlyLoanPayment                  0.3402        0.0386   8.8190 0.0000         0.2646        0.4158\n",
      "EmploymentStatus_Employed           0.0768        0.0976   0.7869 0.4314        -0.1145        0.2680\n",
      "EmploymentStatus_Full-time          0.0676        0.1049   0.6442 0.5195        -0.1381        0.2733\n",
      "EmploymentStatus_Not available      0.0366        0.0182   2.0116 0.0443         0.0009        0.0722\n",
      "EmploymentStatus_Not employed      -0.0265        0.0483  -0.5487 0.5832        -0.1212        0.0682\n",
      "EmploymentStatus_Other              0.0893        0.0273   3.2724 0.0011         0.0358        0.1429\n",
      "EmploymentStatus_Part-time         -0.0223        0.0305  -0.7321 0.4641        -0.0822        0.0375\n",
      "EmploymentStatus_Retired            0.0277        0.0256   1.0806 0.2799        -0.0225        0.0779\n",
      "EmploymentStatus_Self-employed      0.1089        0.0484   2.2489 0.0245         0.0140        0.2039\n",
      "IncomeRange_$0                     -0.0020        0.0340  -0.0599 0.9522        -0.0687        0.0647\n",
      "IncomeRange_$1-24,999               0.0561        0.0837   0.6703 0.5027        -0.1079        0.2201\n",
      "IncomeRange_$100,000+              -0.0782        0.0927  -0.8444 0.3985        -0.2599        0.1034\n",
      "IncomeRange_$25,000-49,999          0.0530        0.1357   0.3903 0.6963        -0.2130        0.3189\n",
      "IncomeRange_$50,000-74,999         -0.0331        0.1250  -0.2648 0.7912        -0.2780        0.2119\n",
      "IncomeRange_$75,000-99,999         -0.0565        0.0952  -0.5941 0.5525        -0.2431        0.1300\n",
      "IncomeRange_Not displayed           0.0267        0.1217   0.2192 0.8265        -0.2119        0.2653\n",
      "IncomeRange_Not employed            0.0800        0.0577   1.3869 0.1655        -0.0331        0.1932\n",
      "=====================================================================================================\n",
      "\n"
     ]
    }
   ],
   "source": [
    "warnings.filterwarnings('ignore')\n",
    "logit_model=sm.Logit(train_y,train_X)\n",
    "result=logit_model.fit()\n",
    "print(result.summary2())"
   ]
  },
  {
   "cell_type": "markdown",
   "metadata": {},
   "source": [
    "#### Sklearn Logistic Regression"
   ]
  },
  {
   "cell_type": "code",
   "execution_count": 61,
   "metadata": {},
   "outputs": [
    {
     "name": "stdout",
     "output_type": "stream",
     "text": [
      "\n",
      "LOGISTIC REGRESSION MODEL: \n",
      "Accuracy = 72.53 \n",
      "ROC Accuracy = 61.02\n",
      "\n",
      "Precision = 0.61 \n",
      "Recall = 0.31 \n",
      "F1-score = 0.41\n"
     ]
    },
    {
     "data": {
      "image/png": "[encoded data removed]",
      "text/plain": [
       "<Figure size 648x504 with 2 Axes>"
      ]
     },
     "metadata": {
      "needs_background": "light"
     },
     "output_type": "display_data"
    }
   ],
   "source": [
    "model_LOGREG = LogisticRegression(solver='liblinear') \n",
    "model_LOGREG.fit(train_X,train_y)\n",
    "pred_LOGREG = model_LOGREG.predict(test_X)\n",
    "acc, roc = round(accuracy_score(test_y, pred_LOGREG)*100,2), round(roc_auc_score(test_y, pred_LOGREG)*100,2)\n",
    "precision, recall, f1score, support = metrics.precision_recall_fscore_support(test_y, pred_LOGREG)\n",
    "precision, recall, f1score = round(precision[1],2), round(recall[1],2), round(f1score[1],2)\n",
    "#models.append((\"Logistic Regression\",acc,roc,precision, recall, f1score))\n",
    "print(\"\\nLOGISTIC REGRESSION MODEL:\",\"\\nAccuracy =\",acc,\"\\nROC Accuracy =\",roc)\n",
    "print(\"\\nPrecision =\",precision,\"\\nRecall =\",recall,\"\\nF1-score =\",f1score)\n",
    "cm = metrics.confusion_matrix(test_y, pred_LOGREG)\n",
    "cmap = sns.cm.rocket_r\n",
    "fig, ax = plt.subplots(figsize=(9,7))\n",
    "sns.heatmap(cm,annot=True, ax=ax, fmt='g',cmap=cmap); #annot=True to annotate cells\n",
    "\n",
    "# labels, title and ticks\n",
    "ax.set_xlabel('Predicted',size=12);ax.set_ylabel('True',size=12); \n",
    "ax.set_title(' Confusion Matrix',size=18); \n",
    "ax.xaxis.set_ticklabels(['Completed:  0', 'Defaulted:  1'],size=12); ax.yaxis.set_ticklabels(['Completed:  0', 'Defaulted:  1'],size=12);"
   ]
  },
  {
   "cell_type": "markdown",
   "metadata": {},
   "source": [
    "#### Model Weights"
   ]
  },
  {
   "cell_type": "code",
   "execution_count": 64,
   "metadata": {},
   "outputs": [
    {
     "name": "stdout",
     "output_type": "stream",
     "text": [
      "Predictors ordered by Log Reg importance:\n",
      "\n",
      "BorrowerAPR                               0.53\n",
      "ProsperRating (Alpha)                     -0.48\n",
      "MonthlyLoanPayment                        0.43\n",
      "ProsperRating (numeric)                   -0.39\n",
      "Term                                      0.25\n",
      "CurrentDelinquencies                      0.21\n",
      "IsBorrowerHomeowner                       0.15\n",
      "StatedMonthlyIncome                       -0.14\n",
      "TradesOpenedLast6Months                   0.14\n",
      "CreditScoreRangeUpper                     -0.14\n",
      "CreditScoreRangeLower                     -0.14\n",
      "EmploymentStatus_Retired                  0.1\n",
      "IncomeRange_Not displayed                 0.09\n",
      "EmploymentStatus_Not employed             0.09\n",
      "IncomeRange_$1-24,999                     -0.08\n",
      "ProsperScore                              0.08\n",
      "CreditGrade                               0.08\n",
      "LoanOriginalAmount                        -0.07\n",
      "BankcardUtilization                       -0.07\n",
      "Defaulted                                 0.07\n",
      "IncomeRange_$100,000+                     0.06\n",
      "IncomeRange_$50,000-74,999                -0.06\n",
      "IncomeRange_$0                            0.06\n",
      "AvailableBankcardCredit                   -0.06\n",
      "PublicRecordsLast10Years                  0.06\n",
      "DelinquenciesLast7Years                   -0.05\n",
      "EmploymentStatus_Not available            -0.04\n",
      "EmploymentStatus_Other                    -0.04\n",
      "EmploymentStatusDuration                  0.04\n",
      "IncomeVerifiable                          -0.03\n",
      "IncomeRange_$25,000-49,999                -0.03\n",
      "EmploymentStatus_Full-time                0.03\n",
      "EmploymentStatus_Employed                 0.03\n",
      "TotalTrades                               -0.02\n",
      "EmploymentStatus_Part-time                0.02\n",
      "AmountDelinquent                          -0.02\n",
      "IncomeRange_$75,000-99,999                0.01\n",
      "DebtToIncomeRatio                         0.01\n",
      "EmploymentStatus_Self-employed            -0.01\n",
      "TotalCreditLinespast7years                -0.01\n",
      "TradesNeverDelinquent (percentage)        0.0\n",
      "PublicRecordsLast12Months                 -0.0\n"
     ]
    }
   ],
   "source": [
    "columns = list(df.columns) \n",
    "coefficients = list(model_LOGREG.coef_[0])\n",
    "weights = [abs(x) for x in coefficients]\n",
    "data = sorted(zip(weights,columns,coefficients),reverse=True)\n",
    "print(\"Predictors ordered by Log Reg importance:\\n\")\n",
    "for x in data:\n",
    "    print(x[1],\" \"*(40-len(x[1])),round(x[2],2))"
   ]
  },
  {
   "cell_type": "markdown",
   "metadata": {},
   "source": [
    "#### 4.2.1 LOGISTIC REGRESSION with Recursive Feature Elimination with Cross Validation\n",
    "Recursive Feature Elimination is used to identify the best features, this provides a minor model accuracy improvement."
   ]
  },
  {
   "cell_type": "code",
   "execution_count": 69,
   "metadata": {},
   "outputs": [
    {
     "name": "stdout",
     "output_type": "stream",
     "text": [
      "Optimal number of features : 27\n"
     ]
    },
    {
     "data": {
      "image/png": "[encoded data removed]",
      "text/plain": [
       "<Figure size 432x288 with 1 Axes>"
      ]
     },
     "metadata": {
      "needs_background": "light"
     },
     "output_type": "display_data"
    }
   ],
   "source": [
    "model_LOGREG = LogisticRegression(solver='liblinear') \n",
    "\n",
    "rfecv_LOGREG = RFECV(estimator=model_LOGREG, step=5, cv=StratifiedKFold(3),\n",
    "              scoring='accuracy')\n",
    "rfecv_LOGREG.fit(train_X, train_y)\n",
    "print(\"Optimal number of features : %d\" % rfecv_LOGREG.n_features_)\n",
    "# Plot number of features VS. cross-validation scores\n",
    "plt.figure()\n",
    "plt.xlabel(\"Number of features selected\")\n",
    "plt.ylabel(\"Cross validation score (nb of correct classifications)\")\n",
    "plt.plot(range(1, len(rfecv_LOGREG.grid_scores_) + 1), rfecv_LOGREG.grid_scores_)\n",
    "plt.show()"
   ]
  },
  {
   "cell_type": "code",
   "execution_count": 71,
   "metadata": {},
   "outputs": [
    {
     "name": "stdout",
     "output_type": "stream",
     "text": [
      "\n",
      "LOGISTIC REGRESSION RFE MODEL: \n",
      "Accuracy = 72.54 \n",
      "ROC Accuracy = 61.07\n",
      "\n",
      "Precision = 0.61 \n",
      "Recall = 0.31 \n",
      "F1-score = 0.41\n"
     ]
    },
    {
     "data": {
      "image/png": "[encoded data removed]",
      "text/plain": [
       "<Figure size 648x504 with 2 Axes>"
      ]
     },
     "metadata": {
      "needs_background": "light"
     },
     "output_type": "display_data"
    }
   ],
   "source": [
    "pred_LOGREG = rfecv_LOGREG.predict(test_X)\n",
    "acc, roc = round(accuracy_score(test_y, pred_LOGREG)*100,2), round(roc_auc_score(test_y, pred_LOGREG)*100,2)\n",
    "precision, recall, f1score, support = metrics.precision_recall_fscore_support(test_y, pred_LOGREG)\n",
    "precision, recall, f1score = round(precision[1],2), round(recall[1],2), round(f1score[1],2)\n",
    "#models.append((\"Logistic Regression\",acc,roc,precision, recall, f1score))\n",
    "print(\"\\nLOGISTIC REGRESSION RFE MODEL:\",\"\\nAccuracy =\",acc,\"\\nROC Accuracy =\",roc)\n",
    "print(\"\\nPrecision =\",precision,\"\\nRecall =\",recall,\"\\nF1-score =\",f1score)\n",
    "cm = metrics.confusion_matrix(test_y, pred_LOGREG)\n",
    "cmap = sns.cm.rocket_r\n",
    "fig, ax = plt.subplots(figsize=(9,7))\n",
    "sns.heatmap(cm,annot=True, ax=ax, fmt='g',cmap=cmap); #annot=True to annotate cells\n",
    "\n",
    "# labels, title and ticks\n",
    "ax.set_xlabel('Predicted',size=12);ax.set_ylabel('True',size=12); \n",
    "ax.set_title(' Confusion Matrix',size=18); \n",
    "ax.xaxis.set_ticklabels(['Completed:  0', 'Defaulted:  1'],size=12); ax.yaxis.set_ticklabels(['Completed:  0', 'Defaulted:  1'],size=12);"
   ]
  },
  {
   "cell_type": "markdown",
   "metadata": {},
   "source": [
    "#### 4.3 RANDOM FOREST CLASSIFIER"
   ]
  },
  {
   "cell_type": "code",
   "execution_count": 84,
   "metadata": {},
   "outputs": [
    {
     "name": "stdout",
     "output_type": "stream",
     "text": [
      "\n",
      "RANDOM FOREST CLASSIFIER MODEL: \n",
      "Accuracy = 72.83 \n",
      "ROC Accuracy = 62.11\n",
      "\n",
      "Precision = 0.61 \n",
      "Recall = 0.34 \n",
      "F1-score = 0.44\n"
     ]
    },
    {
     "data": {
      "image/png": "[encoded data removed]",
      "text/plain": [
       "<Figure size 648x504 with 2 Axes>"
      ]
     },
     "metadata": {
      "needs_background": "light"
     },
     "output_type": "display_data"
    }
   ],
   "source": [
    "model_RFC = RandomForestClassifier(n_estimators=100) \n",
    "model_RFC.fit(train_X,train_y)\n",
    "pred_RFC = model_RFC.predict(test_X)\n",
    "acc, roc = round(accuracy_score(test_y, pred_RFC)*100,2), round(roc_auc_score(test_y, pred_RFC)*100,2)\n",
    "precision, recall, f1score, support = metrics.precision_recall_fscore_support(test_y, pred_RFC)\n",
    "precision, recall, f1score = round(precision[1],2), round(recall[1],2), round(f1score[1],2)\n",
    "#models.append((\"Logistic Regression\",acc,roc,precision, recall, f1score))\n",
    "print(\"\\nRANDOM FOREST CLASSIFIER MODEL:\",\"\\nAccuracy =\",acc,\"\\nROC Accuracy =\",roc)\n",
    "print(\"\\nPrecision =\",precision,\"\\nRecall =\",recall,\"\\nF1-score =\",f1score)\n",
    "cm = metrics.confusion_matrix(test_y, pred_RFC)\n",
    "cmap = sns.cm.rocket_r\n",
    "fig, ax = plt.subplots(figsize=(9,7))\n",
    "sns.heatmap(cm,annot=True, ax=ax, fmt='g',cmap=cmap); #annot=True to annotate cells\n",
    "\n",
    "# labels, title and ticks\n",
    "ax.set_xlabel('Predicted',size=12);ax.set_ylabel('True',size=12); \n",
    "ax.set_title(' Confusion Matrix',size=18); \n",
    "ax.xaxis.set_ticklabels(['Completed:  0', 'Defaulted:  1'],size=12); ax.yaxis.set_ticklabels(['Completed:  0', 'Defaulted:  1'],size=12);"
   ]
  },
  {
   "cell_type": "code",
   "execution_count": 85,
   "metadata": {},
   "outputs": [
    {
     "name": "stdout",
     "output_type": "stream",
     "text": [
      "Random Forest Classifier Predictor Importances/Weights\n",
      "\n",
      "BorrowerAPR                               10.0\n",
      "MonthlyLoanPayment                        8.0\n",
      "StatedMonthlyIncome                       7.0\n",
      "TotalCreditLinespast7years                6.0\n",
      "EmploymentStatusDuration                  6.0\n",
      "DebtToIncomeRatio                         6.0\n",
      "AvailableBankcardCredit                   6.0\n",
      "TotalTrades                               5.0\n",
      "LoanOriginalAmount                        5.0\n",
      "BankcardUtilization                       5.0\n",
      "TradesNeverDelinquent (percentage)        4.0\n",
      "CreditScoreRangeUpper                     4.0\n",
      "CreditScoreRangeLower                     4.0\n",
      "DelinquenciesLast7Years                   3.0\n",
      "TradesOpenedLast6Months                   2.0\n",
      "PublicRecordsLast10Years                  2.0\n",
      "ProsperScore                              2.0\n",
      "ProsperRating (numeric)                   2.0\n",
      "CurrentDelinquencies                      2.0\n",
      "CreditGrade                               2.0\n",
      "AmountDelinquent                          2.0\n",
      "Term                                      1.0\n",
      "ProsperRating (Alpha)                     1.0\n",
      "IsBorrowerHomeowner                       1.0\n",
      "IncomeRange_$50,000-74,999                1.0\n",
      "IncomeRange_$25,000-49,999                1.0\n",
      "EmploymentStatus_Full-time                1.0\n",
      "PublicRecordsLast12Months                 0.0\n",
      "IncomeVerifiable                          0.0\n",
      "IncomeRange_Not employed                  0.0\n",
      "IncomeRange_Not displayed                 0.0\n",
      "IncomeRange_$75,000-99,999                0.0\n",
      "IncomeRange_$100,000+                     0.0\n",
      "IncomeRange_$1-24,999                     0.0\n",
      "IncomeRange_$0                            0.0\n",
      "EmploymentStatus_Self-employed            0.0\n",
      "EmploymentStatus_Retired                  0.0\n",
      "EmploymentStatus_Part-time                0.0\n",
      "EmploymentStatus_Other                    0.0\n",
      "EmploymentStatus_Not employed             0.0\n",
      "EmploymentStatus_Not available            0.0\n",
      "EmploymentStatus_Employed                 0.0\n"
     ]
    }
   ],
   "source": [
    "importances = [round(round(x,2)*100) for x in model_RFC.feature_importances_]\n",
    "feat_vars = list(train_X.columns)\n",
    "feature_importances = sorted(list(zip(importances,feat_vars)),reverse=True)\n",
    "print(\"Random Forest Classifier Predictor Importances/Weights\\n\")\n",
    "for x in feature_importances:\n",
    "    print(x[1],\" \"*(40-len(x[1])),x[0])"
   ]
  },
  {
   "cell_type": "markdown",
   "metadata": {},
   "source": [
    "#### 4.3.1 RANDOM FOREST CLASSIFIER with RFE & CV"
   ]
  },
  {
   "cell_type": "code",
   "execution_count": 86,
   "metadata": {},
   "outputs": [
    {
     "name": "stdout",
     "output_type": "stream",
     "text": [
      "Optimal number of features : 37\n"
     ]
    },
    {
     "data": {
      "image/png": "[encoded data removed]",
      "text/plain": [
       "<Figure size 432x288 with 1 Axes>"
      ]
     },
     "metadata": {
      "needs_background": "light"
     },
     "output_type": "display_data"
    }
   ],
   "source": [
    "model_RFC = RandomForestClassifier(n_estimators=100) \n",
    "\n",
    "rfecv_RFC = RFECV(estimator=model_RFC, step=5, cv=StratifiedKFold(3),\n",
    "              scoring='accuracy')\n",
    "rfecv_RFC.fit(train_X, train_y)\n",
    "\n",
    "print(\"Optimal number of features : %d\" % rfecv_RFC.n_features_)\n",
    "# Plot number of features VS. cross-validation scores\n",
    "plt.figure()\n",
    "plt.xlabel(\"Number of features selected\")\n",
    "plt.ylabel(\"Cross validation score (nb of correct classifications)\")\n",
    "plt.plot(range(1, len(rfecv_RFC.grid_scores_) + 1), rfecv_RFC.grid_scores_)\n",
    "plt.show()"
   ]
  },
  {
   "cell_type": "code",
   "execution_count": 87,
   "metadata": {},
   "outputs": [
    {
     "name": "stdout",
     "output_type": "stream",
     "text": [
      "\n",
      "RANDOM FOREST CLASSIFIER MODEL: \n",
      "Accuracy = 72.62 \n",
      "ROC Accuracy = 61.77\n",
      "\n",
      "Precision = 0.61 \n",
      "Recall = 0.33 \n",
      "F1-score = 0.43\n"
     ]
    },
    {
     "data": {
      "image/png": "[encoded data removed]",
      "text/plain": [
       "<Figure size 648x504 with 2 Axes>"
      ]
     },
     "metadata": {
      "needs_background": "light"
     },
     "output_type": "display_data"
    }
   ],
   "source": [
    "pred_RFC = rfecv_RFC.predict(test_X)\n",
    "acc, roc = round(accuracy_score(test_y, pred_RFC)*100,2), round(roc_auc_score(test_y, pred_RFC)*100,2)\n",
    "precision, recall, f1score, support = metrics.precision_recall_fscore_support(test_y, pred_RFC)\n",
    "precision, recall, f1score = round(precision[1],2), round(recall[1],2), round(f1score[1],2)\n",
    "#models.append((\"Logistic Regression\",acc,roc,precision, recall, f1score))\n",
    "print(\"\\nRANDOM FOREST CLASSIFIER MODEL:\",\"\\nAccuracy =\",acc,\"\\nROC Accuracy =\",roc)\n",
    "print(\"\\nPrecision =\",precision,\"\\nRecall =\",recall,\"\\nF1-score =\",f1score)\n",
    "cm = metrics.confusion_matrix(test_y, pred_RFC)\n",
    "cmap = sns.cm.rocket_r\n",
    "fig, ax = plt.subplots(figsize=(9,7))\n",
    "sns.heatmap(cm,annot=True, ax=ax, fmt='g',cmap=cmap); #annot=True to annotate cells\n",
    "\n",
    "# labels, title and ticks\n",
    "ax.set_xlabel('Predicted',size=12);ax.set_ylabel('True',size=12); \n",
    "ax.set_title(' Confusion Matrix',size=18); \n",
    "ax.xaxis.set_ticklabels(['Completed:  0', 'Defaulted:  1'],size=12); ax.yaxis.set_ticklabels(['Completed:  0', 'Defaulted:  1'],size=12);"
   ]
  },
  {
   "cell_type": "markdown",
   "metadata": {},
   "source": [
    "#### Below we see the feature rankings. The bottom 5 features were dropped to make 37 predictors"
   ]
  },
  {
   "cell_type": "code",
   "execution_count": 106,
   "metadata": {},
   "outputs": [
    {
     "name": "stdout",
     "output_type": "stream",
     "text": [
      "37 features kept:\n",
      "\n",
      "AmountDelinquent\n",
      "AvailableBankcardCredit\n",
      "BankcardUtilization\n",
      "BorrowerAPR\n",
      "CreditGrade\n",
      "CreditScoreRangeLower\n",
      "CreditScoreRangeUpper\n",
      "CurrentDelinquencies\n",
      "DebtToIncomeRatio\n",
      "DelinquenciesLast7Years\n",
      "EmploymentStatusDuration\n",
      "EmploymentStatus_Employed\n",
      "EmploymentStatus_Full-time\n",
      "EmploymentStatus_Not available\n",
      "EmploymentStatus_Other\n",
      "EmploymentStatus_Retired\n",
      "EmploymentStatus_Self-employed\n",
      "IncomeRange_$1-24,999\n",
      "IncomeRange_$100,000+\n",
      "IncomeRange_$25,000-49,999\n",
      "IncomeRange_$50,000-74,999\n",
      "IncomeRange_$75,000-99,999\n",
      "IncomeVerifiable\n",
      "IsBorrowerHomeowner\n",
      "LoanOriginalAmount\n",
      "MonthlyLoanPayment\n",
      "ProsperRating (Alpha)\n",
      "ProsperRating (numeric)\n",
      "ProsperScore\n",
      "PublicRecordsLast10Years\n",
      "PublicRecordsLast12Months\n",
      "StatedMonthlyIncome\n",
      "Term\n",
      "TotalCreditLinespast7years\n",
      "TotalTrades\n",
      "TradesNeverDelinquent (percentage)\n",
      "TradesOpenedLast6Months\n",
      "\n",
      " 5 features dropped:\n",
      "\n",
      "EmploymentStatus_Not employed\n",
      "EmploymentStatus_Part-time\n",
      "IncomeRange_$0\n",
      "IncomeRange_Not displayed\n",
      "IncomeRange_Not employed\n"
     ]
    }
   ],
   "source": [
    "ranks = [round(round(x,2)*100) for x in rfecv_RFC.ranking_]\n",
    "feat_vars = list(train_X.columns)\n",
    "feature_ranks = sorted(list(zip(ranks,feat_vars)))\n",
    "features_kept = feature_ranks[:rfecv_RFC.n_features_]\n",
    "features_dropped = feature_ranks[rfecv_RFC.n_features_:]\n",
    "print(rfecv_RFC.n_features_,\"features kept:\\n\")\n",
    "for x in features_kept:\n",
    "    print(x[1])\n",
    "print(\"\\n\",len(feat_vars)-rfecv_RFC.n_features_,\"features dropped:\\n\")\n",
    "for x in features_dropped:\n",
    "    print(x[1])"
   ]
  },
  {
   "cell_type": "code",
   "execution_count": null,
   "metadata": {},
   "outputs": [],
   "source": []
  },
  {
   "cell_type": "code",
   "execution_count": null,
   "metadata": {},
   "outputs": [],
   "source": []
  },
  {
   "cell_type": "code",
   "execution_count": null,
   "metadata": {},
   "outputs": [],
   "source": []
  },
  {
   "cell_type": "code",
   "execution_count": null,
   "metadata": {},
   "outputs": [],
   "source": []
  },
  {
   "cell_type": "code",
   "execution_count": null,
   "metadata": {},
   "outputs": [],
   "source": []
  },
  {
   "cell_type": "code",
   "execution_count": null,
   "metadata": {},
   "outputs": [],
   "source": []
  }
 ],
 "metadata": {
  "kernelspec": {
   "display_name": "Python 3",
   "language": "python",
   "name": "python3"
  },
  "language_info": {
   "codemirror_mode": {
    "name": "ipython",
    "version": 3
   },
   "file_extension": ".py",
   "mimetype": "text/x-python",
   "name": "python",
   "nbconvert_exporter": "python",
   "pygments_lexer": "ipython3",
   "version": "3.6.8"
  }
 },
 "nbformat": 4,
 "nbformat_minor": 2
}
